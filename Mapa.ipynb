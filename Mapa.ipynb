{
 "cells": [
  {
   "cell_type": "markdown",
   "metadata": {},
   "source": [
    "# **Mapas**\n",
    "---\n",
    "\n",
    "Geoprocessamento\n",
    "Abaixo vamos exibir o mapa de Brasilia\n",
    "Para isso vamos fazer uso da biblioteca FOLIUM - pip install folium\n"
   ]
  },
  {
   "cell_type": "code",
   "execution_count": null,
   "metadata": {},
   "outputs": [],
   "source": [
    "import folium\n",
    "\n",
    "# Cria um mapa centrado em Brasília, DF\n",
    "m = folium.Map(location=[-15.8267, -47.9218], zoom_start=12)\n",
    "\n",
    "# Adiciona um marcador para o Congresso Nacional\n",
    "folium.Marker(\n",
    "    location=[-15.7998, -47.8645],  # Localização do Congresso Nacional\n",
    "    popup='Congresso Nacional',\n",
    "    icon=folium.Icon(icon='flag', color='blue')\n",
    ").add_to(m)\n",
    "\n",
    "# Adiciona um marcador para a Catedral de Brasília\n",
    "folium.Marker(\n",
    "    location=[-15.7983, -47.8758],  # Localização da Catedral de Brasília\n",
    "    popup='Catedral de Brasília',\n",
    "    icon=folium.Icon(color='red')\n",
    ").add_to(m)\n",
    "\n",
    "# Adiciona um círculo em torno da Praça dos Três Poderes\n",
    "folium.Circle(\n",
    "    radius=500,  # Raio de 500 metros\n",
    "    location=[-15.8009, -47.8619],  # Localização da Praça dos Três Poderes\n",
    "    popup='Praça dos Três Poderes',\n",
    "    color='green',\n",
    "    fill=True,\n",
    "    fill_color='green'\n",
    ").add_to(m)\n",
    "\n",
    "# Adiciona camadas de controle para visualização adicional\n",
    "folium.TileLayer('Stamen Toner', attr='Map tiles by Stamen Design, under CC BY 3.0. Data by OpenStreetMap, under ODbL.').add_to(m)\n",
    "folium.TileLayer('Stamen Terrain', attr='Map tiles by Stamen Design, under CC BY 3.0. Data by OpenStreetMap, under ODbL.').add_to(m)\n",
    "folium.TileLayer('CartoDB positron', attr='Map tiles by CartoDB, under CC BY 3.0. Data by OpenStreetMap, under ODbL.').add_to(m)\n",
    "\n",
    "# Adiciona o controle de camadas\n",
    "folium.LayerControl().add_to(m)\n",
    "\n",
    "# Salva o mapa em um arquivo HTML\n",
    "m.save('mapa_brasilia.html')\n",
    "\n",
    "# Exibe o mapa no notebook (se estiver usando Jupyter Notebook)\n",
    "m"
   ]
  },
  {
   "cell_type": "code",
   "execution_count": null,
   "metadata": {},
   "outputs": [],
   "source": [
    "mapa = folium.Map(location=[5.345317, -4.024429], zoom_start=13)\n",
    "display(mapa)"
   ]
  },
  {
   "cell_type": "code",
   "execution_count": null,
   "metadata": {},
   "outputs": [],
   "source": [
    "folium.Marker(location = [-15.7948, -47.91319], popup = 'SENAI SIG').add_to(mapa)\n",
    "display(mapa)"
   ]
  }
 ],
 "metadata": {
  "kernelspec": {
   "display_name": ".venv",
   "language": "python",
   "name": "python3"
  },
  "language_info": {
   "codemirror_mode": {
    "name": "ipython",
    "version": 3
   },
   "file_extension": ".py",
   "mimetype": "text/x-python",
   "name": "python",
   "nbconvert_exporter": "python",
   "pygments_lexer": "ipython3",
   "version": "3.12.5"
  }
 },
 "nbformat": 4,
 "nbformat_minor": 2
}
